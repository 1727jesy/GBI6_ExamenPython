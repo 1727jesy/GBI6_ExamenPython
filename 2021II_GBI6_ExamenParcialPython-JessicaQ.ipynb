{
 "cells": [
  {
   "cell_type": "markdown",
   "metadata": {},
   "source": [
    "<img src=\"https://www.ikiam.edu.ec/img/logo-ikiam-grey.png\" width=300 height=240 />\n",
    "\n",
    "# EXAMEN PARCIAL PYTHON\n",
    "    \n",
    "\n",
    "## GBI6-2021II: BIOINFORMÁTICA\n",
    "\n",
    "**Quiñonez Pachacama Jessica Lisbeth** \n",
    "\n",
    "**24-02-2021**"
   ]
  },
  {
   "cell_type": "markdown",
   "metadata": {},
   "source": [
    "<font color='red'>NO AGREGUE NUEVAS CELDAS, UTILICE ÚNICAMENTE LAS QUE ESTÁN CREADAS</font>\n"
   ]
  },
  {
   "cell_type": "markdown",
   "metadata": {},
   "source": [
    "### REQUERIMIENTOS PARA EL EXAMEN\n",
    "Para este examen se requiere dos documentos: \n",
    "\n",
    "1. Archivo ```miningscience.py``` donde tendrá dos funciones:\n",
    "\n",
    "2. Archivo ```2021II_GBI6_ExamenParcialPython``` donde se llamará las funciones y se obtendrá resultados."
   ]
  },
  {
   "cell_type": "markdown",
   "metadata": {},
   "source": [
    "## Ejercicio 1 [2 puntos]\n",
    "Cree el archivo ```miningscience.py``` con las siguientes dos funciones:\n",
    "    \n",
    "i. ```download_pubmed```: para descargar la data de PubMed utilizando el **ENTREZ** de Biopython. El parámetro de entrada para la función es el ```keyword```. \n",
    "    \n",
    "ii. ```mining_pubs```: esta función debe utilizar el módulo **re** y utilizar el párametro ```tipo``` para realizar lo siguiente:\n",
    "        \n",
    "* Si el tipo es \"DP\" recupera el año de publicación del artículo. El retorno es un *dataframe* con el **PMID** y el **DP_year**.\n",
    "      \n",
    "* Si el tipo es \"AU\" recupera el número de autores por **PMID**. El retorno es un *dataframe* con el **PMID** y el **num_auth**. \n",
    "      \n",
    "* Si el tipo es \"AD\" recupera el conteo de autores por país. El retorno es un *dataframe* con el **country** y el **num_auth**. \n",
    "\n",
    "* *Puede utilizar un ```if``` dentro de la función.* \n",
    "\n",
    "* *Cree un docstring para cada función.* \n",
    "\n",
    "Luego de crear las funciones, cargue el módulo ```miningscience``` como ```msc``` e imprima docstring de cada función.\n",
    "\n",
    "\n"
   ]
  },
  {
   "cell_type": "code",
   "execution_count": 5,
   "metadata": {},
   "outputs": [
    {
     "name": "stdout",
     "output_type": "stream",
     "text": [
      "Help on function download_pubmed in module miningscience:\n",
      "\n",
      "download_pubmed(keyword)\n",
      "    En esta funcion se realiza una busqeuda en PubMed sin la necesidad de descargar un archivo, para ello se usa Entrez que permite hacer la busqueda directa con el servidor.\n",
      "\n",
      "Help on function mining_pubs in module miningscience:\n",
      "\n",
      "mining_pubs(tipo, textEcGen2)\n",
      "    Docstring mining_pubs\n",
      "    La función mining_pubs tendra dos argumentos que seran los correspondientes al que proviene del archivo y el tipo de busuqeda, que puede ser: DP, AU o AD.\n",
      "           Si el tipo es \"DP\" recupera el año de publicación del artículo. El retorno es un dataframe con el PMID y el DP_year.\n",
      "           Si el tipo es \"AU\" recupera el número de autores por PMID. El retorno es un dataframe con el PMID y el num_auth.\n",
      "           Si el tipo es \"AD\" recupera el conteo de autores por país. El retorno es un dataframe con el country y el num_auth.\n",
      "\n"
     ]
    }
   ],
   "source": [
    "#Impresión de las funciones\n",
    "import miningscience as msc\n",
    "#Información de las funciones\n",
    "help (msc.download_pubmed)\n",
    "help (msc.mining_pubs)"
   ]
  },
  {
   "cell_type": "markdown",
   "metadata": {},
   "source": [
    "\n",
    "## Ejercicio 2 [1 punto]\n",
    "\n",
    "\n",
    "Utilice la función ```download_pubmed``` para descargar la data con el keyword ```Ecuador genomics``` e imprima lo siguiente: \n",
    "\n",
    "```python\n",
    "'El número de artículos es: xx' # xx corresponde al número de artículos recuperados\n",
    "\n",
    "'El PMID del primer artículo es: xxxxxxxx' # xxxxxxxx corresponde al ID del artículo en PUDMED\n",
    "\n",
    "```"
   ]
  },
  {
   "cell_type": "code",
   "execution_count": 6,
   "metadata": {},
   "outputs": [
    {
     "name": "stdout",
     "output_type": "stream",
     "text": [
      "El numero de articulos es: 55\n",
      "\n",
      "El PMID del primer articulo es: PMID- 35120121\n",
      "\n"
     ]
    }
   ],
   "source": [
    "#Libreria ocupada\n",
    "import re\n",
    "#Se llama a las funciones\n",
    "textEcGen2 = msc.download_pubmed(\"Ecuador genomics [Title/Abstract]\")\n",
    "textEcGen3 = re.findall(r'[PMID]{4}\\-.*\\d\\n',textEcGen2)\n",
    "\n",
    "#Imprime las funciones\n",
    "print(\"El numero de articulos es:\", len(textEcGen3)) \n",
    "print(\"\\nEl PMID del primer articulo es:\", textEcGen3[0])"
   ]
  },
  {
   "cell_type": "markdown",
   "metadata": {},
   "source": [
    "## Ejercicio 3 [1 punto]\n",
    "\n",
    "Utilice la función ```mining_pubs``` para crear los siguientes dataframes: \n",
    "\n",
    "* pub_year\n",
    "\n",
    "* pub_authors\n",
    "\n",
    "* coutries\n",
    "\n",
    "Muestre los dos primeros y los dos últimos registros de cada dataframe. "
   ]
  },
  {
   "cell_type": "code",
   "execution_count": 7,
   "metadata": {},
   "outputs": [
    {
     "name": "stdout",
     "output_type": "stream",
     "text": [
      "El dataFrames de pub_year es:\n",
      "\t\n",
      "       PMID DP_year\n",
      "0  35120121    2022\n",
      "1  35064679    2022\n",
      "        PMID DP_year\n",
      "53  19844075    2010\n",
      "54  19018989    2008\n",
      "\n",
      "\n",
      "El dataFrames de pub_authors es:\n",
      "\t\n",
      "       PMID  num_auth\n",
      "0  35120121        14\n",
      "1  35064679         7\n",
      "        PMID  num_auth\n",
      "53  19844075         2\n",
      "54  19018989         7\n",
      "\n",
      "\n",
      "El dataFrames de countries es:\n",
      "\t\n",
      "     country  num_auth\n",
      "0  Australia        27\n",
      "1    Austria         8\n",
      "      country  num_auth\n",
      "56    Uruguay         1\n",
      "57  Venezuela         2\n"
     ]
    }
   ],
   "source": [
    "print (\"El dataFrames de pub_year es:\\n\\t\")\n",
    "year = msc.mining_pubs('AD',textEcGen2)\n",
    "print(year.head(2))\n",
    "print(year.tail(2))\n",
    "\n",
    "print (\"\\n\\nEl dataFrames de pub_authors es:\\n\\t\")\n",
    "authors = msc.mining_pubs('AU',textEcGen2)\n",
    "print(authors.head(2))\n",
    "print(authors.tail(2))\n",
    "\n",
    "print (\"\\n\\nEl dataFrames de countries es:\\n\\t\")\n",
    "countries = msc.mining_pubs('PD',textEcGen2)\n",
    "print(countries.head(2))\n",
    "print(countries.tail(2))"
   ]
  },
  {
   "cell_type": "markdown",
   "metadata": {
    "jp-MarkdownHeadingCollapsed": true,
    "tags": []
   },
   "source": [
    "## Ejercicio 4 [2 puntos]\n",
    "\n",
    "Realice la visualización de los datos del ejercicio 3. \n",
    "\n",
    "* ```pubyear```: utilizando el conteo artículos por año, calcule la media y la desviación estandar (asumiendo que la distribución es normal). Realice un gráfico de la distribución normal de sus datos. Coloque el título, leyenda de los ejes \"x\" e \"y\", y la leyenda de la curva (utilice las expresiones matemáticas tipos latex de ser necesario). \n",
    "\n",
    "* ```pub_authors```: realice un boxplot del conteo de autores por artículo. Coloque las leyendas adecuadas para cada eje y el título.  \n",
    "\n",
    "* ```countries```: realice una nube de puntos (adaptación de su tarea), resalte al menos 3 países con flechas. Coloque las leyendas adecuadas para cada eje y el título. \n"
   ]
  },
  {
   "cell_type": "code",
   "execution_count": 12,
   "metadata": {},
   "outputs": [
    {
     "name": "stdout",
     "output_type": "stream",
     "text": [
      "\n",
      "\n",
      "\t\tDistribución Normal (Gráfica pubyear)\n",
      "\n",
      "\n",
      "\tEl conteo artículos por año es : [2, 1, 1, 7, 1, 1, 1, 16, 8, 5, 8, 4]\n",
      "\n",
      "\tLa media calculada es:  4.583333333333333\n",
      "\n",
      "\tLa desviación estándar (asumiendo que la distribución es normal) calculada es:  4.386690729417285\n",
      "\n",
      "\n",
      "\n"
     ]
    },
    {
     "data": {
      "image/png": "[encoded data removed]",
      "text/plain": [
       "<Figure size 432x288 with 1 Axes>"
      ]
     },
     "metadata": {
      "needs_background": "light"
     },
     "output_type": "display_data"
    },
    {
     "name": "stdout",
     "output_type": "stream",
     "text": [
      "\n",
      "\n",
      "\t\t\tBoxplot (Gráfica pub_authors)\n",
      "\n",
      "\n",
      "\n"
     ]
    },
    {
     "data": {
      "image/png": "[encoded data removed]",
      "text/plain": [
       "<Figure size 648x432 with 1 Axes>"
      ]
     },
     "metadata": {
      "needs_background": "light"
     },
     "output_type": "display_data"
    },
    {
     "name": "stdout",
     "output_type": "stream",
     "text": [
      "\n",
      "\n",
      "\n",
      "\n",
      "Gráfica de Nubes de datos (countries)\n",
      "\n",
      "\n",
      "\n"
     ]
    },
    {
     "data": {
      "image/png": "[encoded data removed]",
      "text/plain": [
       "<Figure size 1296x864 with 2 Axes>"
      ]
     },
     "metadata": {
      "needs_background": "light"
     },
     "output_type": "display_data"
    }
   ],
   "source": [
    "#Librerias a utilizar en la resolucionde las graficas\n",
    "import csv\n",
    "import pandas as pd\n",
    "import numpy as np\n",
    "import scipy.stats as stats\n",
    "import matplotlib.pyplot as plt\n",
    "\n",
    "#Resolución para:\n",
    "#pubyear: utilizando el conteo artículos por año, calcule la media y la desviación estandar\n",
    "#(asumiendo que la distribución es normal). Realice un gráfico de la distribución normal de\n",
    "#sus datos. Coloque el título, leyenda de los ejes \"x\" e \"y\", y la leyenda de la curva \n",
    "#(utilice las expresiones matemáticas tipos latex de ser necesario).\n",
    "#Se llama a los valores de la columna años del Ejercicio Anterior para usar sus datos en una una lista \n",
    "listAnios = year.iloc[:,1]\n",
    "#Se crea una serie de datos y listas nuevas que permitan calcular la media y varianza de los datos\n",
    "seriesList = pd.Series(listAnios)\n",
    "#Se crea una lista de numeros que permite hacer calculos\n",
    "listAnios = list(set(seriesList))\n",
    "seriesListNew=seriesList\n",
    "listAniosNew=listAnios\n",
    "#Se crea una lista de 0 elementos, iguales a la cantidad de años unicos d elos articulos\n",
    "listAniosNew2=[0]*len(listAniosNew)\n",
    "#Se utilzia el algoritmo para calcular la media de los datos haciendo \n",
    "k=0\n",
    "for anio in listAniosNew:\n",
    "    d=0\n",
    "    for componente in seriesListNew:\n",
    "        if (anio == str(componente)):\n",
    "            d=d+1\n",
    "    listAniosNew2[k]=d\n",
    "    k=k+1\n",
    "#Se imprime los resultados por meido de una grqafica de distribucion normal\n",
    "print (\"\\n\\n\\t\\tDistribución Normal (Gráfica pubyear)\")\n",
    "print (\"\\n\\n\\tEl conteo artículos por año es :\",listAniosNew2)\n",
    "mean = np.average(listAniosNew2)\n",
    "print (\"\\n\\tLa media calculada es: \",mean)\n",
    "stan = np.std(listAniosNew2)\n",
    "print (\"\\n\\tLa desviación estándar (asumiendo que la distribución es normal) calculada es: \",stan)\n",
    "x = np.linspace(mean - 3*stan, mean + 3*stan, 100)\n",
    "#Variables de latex\n",
    "sigma = stan\n",
    "label = '$\\mu = %.1f, \\ \\sigma^2=%.1f$' %(mean, stan)\n",
    "y_norm = stats.norm.pdf(x, mean, sigma)\n",
    "print (\"\\n\\n\")\n",
    "plt.plot(x, y_norm, label=label, c = 'lightseagreen')\n",
    "plt.xlabel(\"N° publicaciones\")\n",
    "plt.ylabel(\"Probabilidad de N° de publicaciones\")\n",
    "plt.title(\"Distribución Normal\")\n",
    "plt.legend(title = \"Parámetros\")\n",
    "plt.show()\n",
    "\n",
    "\n",
    "\n",
    "#Resolución para:\n",
    "#pub_authors: realice un boxplot del conteo de autores por artículo. \n",
    "#Coloque las leyendas adecuadas para cada eje y el título.\n",
    "#Se llama a los valores de la columna años del Ejercicio Anterior para usar sus datos en una una lista \n",
    "listAnios = authors.iloc[:,1]\n",
    "#Se crea una serie de datos y listas nuevas que permitan calcular la media y varianza de los datos\n",
    "seriesList = pd.Series(listAnios)\n",
    "#Se crea una lista de numeros que permite hacer calculos, de los autores\n",
    "seriesListAU = seriesList.tolist()\n",
    "print (\"\\n\\n\\t\\t\\tBoxplot (Gráfica pub_authors)\")\n",
    "print (\"\\n\\n\")\n",
    "fig = plt.figure(1, figsize=(9, 6))\n",
    "ax = fig.add_subplot(111)\n",
    "bp = ax.boxplot(seriesListAU)\n",
    "plt.xlabel('Distribución de la cantidad de autores')\n",
    "plt.ylabel('N° de Autores')\n",
    "plt.title('Boxplot de autores por artículo contado')\n",
    "plt.show()\n",
    "\n",
    "#Resolución para:\n",
    "#pub_authors: realice un boxplot del conteo de autores por artículo. \n",
    "#Coloque las leyendas adecuadas para cada eje y el título.\n",
    "#Se llama a los valores de la columna años del Ejercicio Anterior para usar sus datos en una una lista \n",
    "listCountries= countries.iloc[:,0]\n",
    "listCount = countries.iloc[:,1]\n",
    "#Se crea una serie de datos y listas de los datos\n",
    "#Se crea una lista de numeros que permite hacer calculos, de los paises\n",
    "unique_paisesTodosPatrones=pd.Series(listCountries)\n",
    "seriesList = pd.Series(listCount)\n",
    "seriesListPD = seriesList.tolist()\n",
    "\n",
    "#Declarar diccionario vacio\n",
    "coordenadas = {}\n",
    "#Abrir el archivo de coordenadas\n",
    "with open('Data/coordenadas.txt') as f:\n",
    "    csvr = csv.DictReader(f)\n",
    "    for row in csvr:\n",
    "        coordenadas[row['Name']] = [row['Latitude'], row['Longitude']]\n",
    "pais = []\n",
    "longitud = []\n",
    "latitud = []\n",
    "contador = seriesListPD\n",
    "for z in unique_paisesTodosPatrones:\n",
    "    if z in coordenadas.keys():\n",
    "        pais.append(z)\n",
    "        latitud.append(float(coordenadas[z][0]))\n",
    "        longitud.append(float(coordenadas[z][1]))        \n",
    "print (\"\\n\\n\\n\\nGráfica de Nubes de datos (countries)\")\n",
    "print (\"\\n\\n\")\n",
    "#Se grafican las coordenadas usando la biblioteca matplotlib\n",
    "import matplotlib.pyplot as plt\n",
    "%matplotlib inline\n",
    "plt.scatter(longitud, latitud, s = contador, c= contador)\n",
    "plt.colorbar()\n",
    "#Limites del mapa\n",
    "plt.xlim(-135,170)\n",
    "plt.ylim(-75,100)\n",
    "ard = dict(arrowstyle=\"->\")\n",
    "#Algunos paises\n",
    "plt.annotate('Alemania', xy = (10.451526, 51.165691), \n",
    "               xytext = (10.451526, 79.165691), arrowprops= ard)\n",
    "plt.annotate('Australia', xy = (133.775136, -25.274398), \n",
    "               xytext = (90.775136, -30.274398), arrowprops= ard)\n",
    "plt.annotate('Brasil', xy = (-51.92528,-14.235004),\n",
    "               xytext = (-45.92528,-25.235004), arrowprops = ard)\n",
    "plt.annotate('Canada', xy = (-106.346771, 56.130366), \n",
    "               xytext = (-77.346771, 70.130366), arrowprops= ard)\n",
    "plt.annotate('China', xy = (104.195397, 35.86166), \n",
    "               xytext = (85, 80), arrowprops= ard)\n",
    "plt.annotate('Ecuador', xy = (-78.183406, -1.831239), \n",
    "               xytext = (-90.183406, -15.831239), arrowprops= ard)\n",
    "plt.annotate('Francia', xy = (2.213749, 46.227638), \n",
    "               xytext = (-15.213749, 10.227638), arrowprops= ard)\n",
    "plt.annotate('Noruega', xy = (8.468946, 60.472024), \n",
    "               xytext = (-12.230759, 80.783471), arrowprops= ard)\n",
    "plt.annotate('Italia', xy = (12.56738, 41.87194), \n",
    "               xytext = (20.56738, 22.87194), arrowprops= ard)\n",
    "plt.annotate('Japón', xy = (138.252924, 36.204824), \n",
    "               xytext = (150.252924, 5.204824), arrowprops= ard)\n",
    "plt.annotate('Estados Unidos', xy = (-95.712891, 37.09024), \n",
    "               xytext = (-45.712891, 45.09024), arrowprops= ard)\n",
    "plt.annotate('UK', xy = (-3.435973, 55.378051), \n",
    "               xytext = (-45.435973, 50.378051), arrowprops= ard)\n",
    "params = plt.gcf()\n",
    "plSize = params.get_size_inches()\n",
    "params.set_size_inches( (plSize[0] * 3, plSize[1] * 3) )\n",
    "plt.show()"
   ]
  },
  {
   "cell_type": "markdown",
   "metadata": {},
   "source": [
    "## Ejercicio 5 [1 punto]\n",
    "\n",
    "Interprete los resultados del **ejercicio 4**"
   ]
  },
  {
   "cell_type": "markdown",
   "metadata": {},
   "source": [
    "### Escriba la respuesta del ejercicio 5\n",
    "\n",
    "#### Distribución Normal\n",
    "\n",
    "Para el conteo de artpiculos se introdujo como keyword \"Ecuador genomics [Title/Abstract]\", esta arraja un númeor de 55 artículos. En base a esto, se obtuvo una media de 4.58, con una distribución normal mayor a 0.08. Por lo tanto, esta gráfica infiere que para encontrar artpiculos con este keyword sera menor a 0.01.  \n",
    "\n",
    "#### Boxplot \n",
    "\n",
    "El gráfico de Boxplot muestra que la media de autores por artículo es de 10, y el mínimo y maximo de autores será de 1 y 62 respectivamente.\n",
    "\n",
    "#### Mapa de nubes por país\n",
    "\n",
    "Según la distribucion de la gráfica de Nubes, o Map of Science, Ecuador es el país con más artpiculos por autor, lo cual, se relaciona expresamente con la ubicación de busqueda. Asimismo, le sigue USA y Brasil.\n"
   ]
  },
  {
   "cell_type": "markdown",
   "metadata": {},
   "source": [
    "## Ejercicio 6 [2 puntos]\n",
    "\n",
    "Para algún gen de interés, realice lo siguiente: \n",
    "\n",
    "1. Una búsqueda en la página del [NCBI nucleotide](https://www.ncbi.nlm.nih.gov/nucleotide/).\n",
    "\n",
    "2. Descargue el ```Accession List``` de su búsqueda.\n",
    "\n",
    "3. Cargue el ```Accession List``` en este notebook y haga una descarga de la data tipo ```genbank``` utilizando los diez primeros IDs de accesión. \n",
    "\n",
    "4. Arme un árbol filogenético para los resultados del paso 3.\n",
    "\n",
    "5. Interprete el árbol del paso 4. "
   ]
  },
  {
   "cell_type": "code",
   "execution_count": 5,
   "metadata": {},
   "outputs": [],
   "source": [
    "# Escriba aquí su código para el ejercicio 6\n",
    "\n"
   ]
  },
  {
   "cell_type": "markdown",
   "metadata": {},
   "source": [
    "**Escriba aquí la interpretación del árbol**"
   ]
  },
  {
   "cell_type": "markdown",
   "metadata": {},
   "source": [
    "## Ejercicio 7 [1 punto]\n",
    "\n",
    "\n",
    "1. Cree en GitHub un repositorio de nombre ```GBI6_ExamenPython```. \n",
    "2. Cree un archivo ```Readme.md``` que debe tener lo siguiente: \n",
    "- Datos personales\n",
    "- Características del computador\n",
    "- Versión de Python/Anaconda y de cada uno de los módulos/paquetes y utilizados\n",
    "- Explicación de la data utilizada\n",
    "\n",
    "3. Cree un directorio de nombre ```data``` donde deben estar guardado la data utilizada \n",
    "4. Realice al menos 1 control de la versión (commits) por cada ejercicio (del 1 al 6), con un mensaje que inicie como: \n",
    "\n",
    "```sh \n",
    "Carlitos Alimaña ha realizado .....  \n",
    "```"
   ]
  }
 ],
 "metadata": {
  "kernelspec": {
   "display_name": "Python 3",
   "language": "python",
   "name": "python3"
  },
  "language_info": {
   "codemirror_mode": {
    "name": "ipython",
    "version": 3
   },
   "file_extension": ".py",
   "mimetype": "text/x-python",
   "name": "python",
   "nbconvert_exporter": "python",
   "pygments_lexer": "ipython3",
   "version": "3.8.8"
  },
  "latex_envs": {
   "LaTeX_envs_menu_present": true,
   "autoclose": false,
   "autocomplete": true,
   "bibliofile": "biblio.bib",
   "cite_by": "apalike",
   "current_citInitial": 1,
   "eqLabelWithNumbers": true,
   "eqNumInitial": 1,
   "hotkeys": {
    "equation": "Ctrl-E",
    "itemize": "Ctrl-I"
   },
   "labels_anchors": false,
   "latex_user_defs": false,
   "report_style_numbering": false,
   "user_envs_cfg": false
  },
  "toc": {
   "base_numbering": 1,
   "nav_menu": {},
   "number_sections": true,
   "sideBar": false,
   "skip_h1_title": false,
   "title_cell": "Table of Contents",
   "title_sidebar": "Contents",
   "toc_cell": false,
   "toc_position": {
    "height": "1152.67px",
    "left": "41px",
    "top": "110px",
    "width": "253.458px"
   },
   "toc_section_display": true,
   "toc_window_display": false
  },
  "varInspector": {
   "cols": {
    "lenName": 16,
    "lenType": 16,
    "lenVar": 40
   },
   "kernels_config": {
    "python": {
     "delete_cmd_postfix": "",
     "delete_cmd_prefix": "del ",
     "library": "var_list.py",
     "varRefreshCmd": "print(var_dic_list())"
    },
    "r": {
     "delete_cmd_postfix": ") ",
     "delete_cmd_prefix": "rm(",
     "library": "var_list.r",
     "varRefreshCmd": "cat(var_dic_list()) "
    }
   },
   "types_to_exclude": [
    "module",
    "function",
    "builtin_function_or_method",
    "instance",
    "_Feature"
   ],
   "window_display": false
  }
 },
 "nbformat": 4,
 "nbformat_minor": 4
}
